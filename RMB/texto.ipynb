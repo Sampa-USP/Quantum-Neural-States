{
 "cells": [
  {
   "cell_type": "markdown",
   "metadata": {},
   "source": [
    "# Implementando uma RBM para o Estado Fundamental do H₂\n",
    "\n",
    "Este notebook demonstra como usar uma **Restricted Boltzmann Machine (RBM)** como uma *Função de Onda de Ansatz* (Neural Quantum State) para encontrar a energia do estado fundamental da molécula $H_2$.\n",
    "\n",
    "Usaremos:\n",
    "1.  **PySCF:** Para definir a molécula e obter as integrais (o Hamiltoniano).\n",
    "2.  **OpenFermion:** Para converter o Hamiltoniano em um formato de \"qubit\" (operadores de Pauli) que o NetKet possa usar.\n",
    "3.  **NetKet:** Para construir a RBM, rodar a otimização Variational Monte Carlo (VMC) e encontrar a energia."
   ]
  },
  {
   "cell_type": "markdown",
   "metadata": {},
   "source": [
    "## Passo 1: Instalação das Bibliotecas"
   ]
  },
  {
   "cell_type": "code",
   "execution_count": 1,
   "metadata": {},
   "outputs": [
    {
     "name": "stdout",
     "output_type": "stream",
     "text": [
      "Requirement already satisfied: pyscf in /Users/nara/Repository/Attention/Sampa-USP/Quantum-Neural-States/.venv/lib/python3.14/site-packages (2.11.0)\n",
      "Collecting netket\n",
      "  Downloading netket-3.20.3-py3-none-any.whl.metadata (5.9 kB)\n",
      "Requirement already satisfied: openfermion in /Users/nara/Repository/Attention/Sampa-USP/Quantum-Neural-States/.venv/lib/python3.14/site-packages (1.7.1)\n",
      "\u001b[31mERROR: Could not find a version that satisfies the requirement openfermion-pyscf (from versions: none)\u001b[0m\u001b[31m\n",
      "\u001b[0m\u001b[31mERROR: No matching distribution found for openfermion-pyscf\u001b[0m\u001b[31m\n",
      "\u001b[0m"
     ]
    }
   ],
   "source": [
    "# Rode no terminal ou descomente a linha abaixo no notebook:\n",
    "!pip install pyscf netket openfermion openfermion-pyscf"
   ]
  },
  {
   "cell_type": "code",
   "execution_count": null,
   "metadata": {},
   "outputs": [],
   "source": [
    "import pyscf\n",
    "from pyscf import gto, scf, fci\n",
    "import openfermion\n",
    "from openfermion.transforms import get_fermion_operator, jordan_wigner\n",
    "from openfermionpyscf import run_pyscf\n",
    "\n",
    "import netket as nk\n",
    "import jax\n",
    "import numpy as np\n",
    "import jax.numpy as jnp\n",
    "from netket.operator.spin import sigmax, sigmaz, sigmay\n",
    "from netket.operator import PauliStrings\n",
    "\n",
    "# Configurar NetKet para usar 64 bits para precisão\n",
    "from jax.config import config\n",
    "config.update(\"jax_enable_x64\", True)"
   ]
  },
  {
   "cell_type": "markdown",
   "metadata": {},
   "source": [
    "## Passo 2: Obter o Hamiltoniano (com PySCF)\n",
    "\n",
    "Primeiro, definimos nossa molécula H₂ na base `sto-3g`, exatamente como no notebook FCI. Isso nos dá 2 elétrons em 4 orbitais de spin. \n",
    "\n",
    "Usaremos o OpenFermion para extrair o Hamiltoniano e convertê-lo em um formato de \"qubit\" (Transformação de Jordan-Wigner). Um sistema de 4 orbitais de spin se torna um sistema de 4 qubits."
   ]
  },
  {
   "cell_type": "code",
   "execution_count": null,
   "metadata": {},
   "outputs": [],
   "source": [
    "# 1. Definir a molécula no PySCF\n",
    "mol = gto.M(\n",
    "    atom='H 0 0 0; H 0 0 0.74',\n",
    "    basis='sto-3g',\n",
    "    spin=0\n",
    ")\n",
    "\n",
    "# 2. Rodar o PySCF e obter o Hamiltoniano Molecular\n",
    "# (Usamos a ferramenta 'run_pyscf' do OpenFermion)\n",
    "pyscf_analysis = run_pyscf(mol, run_scf=True, run_fci=True)\n",
    "\n",
    "# 3. Obter o Hamiltoniano molecular no formato OpenFermion\n",
    "H_molecular = pyscf_analysis.molecule.get_molecular_hamiltonian()\n",
    "\n",
    "# 4. Converter para Operadores Fermiônicos\n",
    "H_fermionic = get_fermion_operator(H_molecular)\n",
    "\n",
    "# 5. Fazer a Transformação de Jordan-Wigner (Mapear para Qubits/Spins)\n",
    "H_qubit = jordan_wigner(H_fermionic)\n",
    "\n",
    "# Energia FCI (nosso \"benchmark\" exato)\n",
    "E_fci = pyscf_analysis.fci_energy\n",
    "print(f\"Hamiltoniano gerado. Energia FCI (Exata) de referência: {E_fci:.8f} Ha\")"
   ]
  },
  {
   "cell_type": "markdown",
   "metadata": {},
   "source": [
    "## Passo 3: Definir o Problema no NetKet\n",
    "\n",
    "Agora, passamos o problema para o NetKet."
   ]
  },
  {
   "cell_type": "code",
   "execution_count": null,
   "metadata": {},
   "outputs": [],
   "source": [
    "# 1. Definir o Espaço de Hilbert (o \"tabuleiro\")\n",
    "# Temos 4 orbitais de spin -> 4 qubits (ou 4 spins 1/2)\n",
    "# O NetKet usa a convenção de spin: Ocupado=Spin Down (-1), Vazio=Spin Up (+1)\n",
    "N_orbitals = 4\n",
    "hi = nk.hilbert.Spin(s=1/2, N=N_orbitals)\n",
    "\n",
    "# 2. Definir o Hamiltoniano no NetKet\n",
    "# O NetKet não entende o H_qubit do OpenFermion diretamente, precisamos converter\n",
    "# os termos de Pauli (X, Y, Z) para o formato do NetKet.\n",
    "\n",
    "# O Hamiltoniano 'H_qubit' é uma soma de strings de Pauli, ex: 0.1 [Z0 Z1] + 0.2 [X0 Y1 ...]\n",
    "operators = []\n",
    "coeffs = []\n",
    "\n",
    "for pauli_term, coeff in H_qubit.terms.items():\n",
    "    if not pauli_term:  # Termo de identidade (constante)\n",
    "        operators.append(nk.operator.LocalOperator(hi, 1.0))\n",
    "        coeffs.append(jnp.real(coeff))\n",
    "        continue\n",
    "        \n",
    "    op_list = [[] for _ in range(N_orbitals)]\n",
    "    for qubit_index, op_str in pauli_term:\n",
    "        if op_str == 'X':\n",
    "            op_list[qubit_index] = [sigmax(hi, qubit_index)]\n",
    "        elif op_str == 'Y':\n",
    "            op_list[qubit_index] = [sigmay(hi, qubit_index)]\n",
    "        elif op_str == 'Z':\n",
    "            op_list[qubit_index] = [sigmaz(hi, qubit_index)]\n",
    "\n",
    "    # O OpenFermion usa coeficientes complexos, pegamos a parte real\n",
    "    operators.append(PauliStrings(op_list))\n",
    "    coeffs.append(jnp.real(coeff))\n",
    "\n",
    "# Hamiltoniano NetKet final\n",
    "H_netket = nk.operator.LocalOperator(operators, coeffs)\n",
    "\n",
    "print(f\"Espaço de Hilbert e Hamiltoniano construídos para NetKet.\")"
   ]
  },
  {
   "cell_type": "markdown",
   "metadata": {},
   "source": [
    "## Passo 4: Definir o Modelo (a RBM)\n",
    "\n",
    "Definimos a arquitetura da RBM. A RBM padrão do NetKet funciona bem. O hiperparâmetro `alpha` controla quão \"complexa\" (quantos neurônios ocultos) a RBM é. `alpha=1` significa 1 neurônio oculto por neurônio visível."
   ]
  },
  {
   "cell_type": "code",
   "execution_count": null,
   "metadata": {},
   "outputs": [],
   "source": [
    "# 1. Definir o modelo RBM\n",
    "# alpha=1 significa (1 * N_orbitals) = 4 neurônios ocultos\n",
    "model = nk.models.RBM(alpha=1, param_dtype=jnp.float64)\n",
    "\n",
    "# 2. Definir o Amostrador MCMC\n",
    "# Usaremos o amostrador de Metropolis para spins\n",
    "sampler = nk.sampler.MetropolisExchange(hilbert=hi, n_chains=16)\n",
    "\n",
    "# 3. Definir o Otimizador\n",
    "optimizer = nk.optimizer.Sgd(learning_rate=0.01)\n",
    "\n",
    "# 4. Definir o método de Gradiente\n",
    "# Usaremos Stochastic Reconfiguration (SR), que é um \"gradiente natural\"\n",
    "sr = nk.driver.SR(diag_shift=0.1)\n",
    "\n",
    "# 5. Criar o estado VMC (Variational Monte Carlo)\n",
    "vs = nk.vqs.MCState(sampler, model, n_samples=1024)\n",
    "\n",
    "# 6. Criar o \"Driver\" (O laço de otimização VMC)\n",
    "vmc = nk.driver.VMC(\n",
    "    hamiltonian=H_netket,\n",
    "    optimizer=optimizer,\n",
    "    variational_state=vs,\n",
    "    preconditioner=sr\n",
    ")"
   ]
  },
  {
   "cell_type": "markdown",
   "metadata": {},
   "source": [
    "## Passo 5: Rodar a Otimização\n",
    "\n",
    "Treinamos a RBM para 300 épocas e salvamos a energia a cada passo."
   ]
  },
  {
   "cell_type": "code",
   "execution_count": null,
   "metadata": {},
   "outputs": [],
   "source": [
    "# Configurar o log para salvar a energia a cada iteração\n",
    "log = nk.logging.JsonLog(f\"rbm_h2_log\")\n",
    "\n",
    "print(\"Iniciando a otimização VMC da RBM...\")\n",
    "vmc.run(n_iter=300, out=log)\n",
    "print(\"Otimização concluída.\")\n",
    "\n",
    "# A energia final otimizada está no estado variacional\n",
    "E_rbm = vs.expect(H_netket)"
   ]
  },
  {
   "cell_type": "markdown",
   "metadata": {},
   "source": [
    "## Passo 6: Análise dos Resultados\n",
    "\n",
    "Comparamos a energia que a RBM encontrou com a energia exata do Full CI."
   ]
  },
  {
   "cell_type": "code",
   "execution_count": null,
   "metadata": {},
   "outputs": [],
   "source": [
    "print(\"--- Comparação de Resultados ---\")\n",
    "print(f\"Energia Full CI (Exata):     {E_fci:.8f} Ha\")\n",
    "print(f\"Energia RBM (NetKet, VMC): {E_rbm.mean:.8f} Ha (+/- {E_rbm.error_of_mean:.8f})\")\n",
    "\n",
    "diferenca = (E_rbm.mean - E_fci)\n",
    "print(f\"Diferença (Erro da RBM):     {diferenca:.8f} Ha\")\n",
    "print(f\"(O valor da RBM deve ser sempre >= ao FCI, devido ao Princípio Variacional)\")"
   ]
  },
  {
   "cell_type": "code",
   "execution_count": null,
   "metadata": {},
   "outputs": [],
   "source": [
    "# Opcional: Plotar a convergência da energia\n",
    "import matplotlib.pyplot as plt\n",
    "\n",
    "data = log.data\n",
    "iterations = data['Energy']['iter']\n",
    "energy_mean = data['Energy']['Mean']\n",
    "\n",
    "plt.figure(figsize=(10, 6))\n",
    "plt.plot(iterations, energy_mean, label='Energia VMC (RBM)')\n",
    "plt.axhline(E_fci, color='r', linestyle='--', label='Energia FCI (Exata)')\n",
    "plt.xlabel('Iteração de Otimização')\n",
    "plt.ylabel('Energia (Ha)')\n",
    "plt.title('Convergência da Energia VMC para RBM (H₂ sto-3g)')\n",
    "plt.legend()\n",
    "plt.grid(True)\n",
    "plt.show()"
   ]
  }
 ],
 "metadata": {
  "kernelspec": {
   "display_name": ".venv",
   "language": "python",
   "name": "python3"
  },
  "language_info": {
   "codemirror_mode": {
    "name": "ipython",
    "version": 3
   },
   "file_extension": ".py",
   "mimetype": "text/x-python",
   "name": "python",
   "nbconvert_exporter": "python",
   "pygments_lexer": "ipython3",
   "version": "3.14.0"
  }
 },
 "nbformat": 4,
 "nbformat_minor": 5
}
