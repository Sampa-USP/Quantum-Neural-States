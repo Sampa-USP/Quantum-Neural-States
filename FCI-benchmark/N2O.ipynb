{
 "cells": [
  {
   "cell_type": "code",
   "execution_count": 1,
   "id": "18304402",
   "metadata": {},
   "outputs": [],
   "source": [
    "import pyscf\n",
    "from pyscf import gto, scf, fci\n",
    "import numpy as np"
   ]
  },
  {
   "cell_type": "code",
   "execution_count": 2,
   "id": "518f5ef6",
   "metadata": {},
   "outputs": [
    {
     "data": {
      "text/plain": [
       "<pyscf.gto.mole.Mole at 0x111c24440>"
      ]
     },
     "execution_count": 2,
     "metadata": {},
     "output_type": "execute_result"
    }
   ],
   "source": [
    "# Define a molécula: N2O com distâncias de ligação experimentais\n",
    "# A estrutura é linear: N(terminal) - N(central) - O(terminal)\n",
    "# Colocamos o N central na origem (0, 0, 0).\n",
    "# r(N-N) = 1.128 Å\n",
    "# r(N-O) = 1.184 Å\n",
    "mol = gto.M(\n",
    "    atom=[\n",
    "        ['N', (0, 0, 0)],      # N central\n",
    "        ['N', (0, 0, 1.128)],  # N terminal\n",
    "        ['O', (0, 0, -1.184)]  # O terminal\n",
    "    ],\n",
    "    basis='sto-3g',  # Base mínima\n",
    "    spin=0,          # Singlete (22 elétrons)\n",
    "    symmetry=True    # Habilitar simetria (C_inf_v)\n",
    ")\n",
    "mol.build()"
   ]
  },
  {
   "cell_type": "code",
   "execution_count": 3,
   "id": "888e5a8a",
   "metadata": {},
   "outputs": [
    {
     "name": "stdout",
     "output_type": "stream",
     "text": [
      "converged SCF energy = -181.191764750806\n",
      "Energia Hartree-Fock (RHF): -181.19176475 Hartrees\n"
     ]
    }
   ],
   "source": [
    "# 1. Calcular a energia Hartree-Fock (RHF - Restricted HF)\n",
    "myhf = scf.RHF(mol).run()\n",
    "\n",
    "print(f\"Energia Hartree-Fock (RHF): {myhf.e_tot:.8f} Hartrees\")"
   ]
  },
  {
   "cell_type": "code",
   "execution_count": 4,
   "id": "f0c1c67c",
   "metadata": {},
   "outputs": [
    {
     "name": "stdout",
     "output_type": "stream",
     "text": [
      "Energia Full CI (PySCF):    -181.43794104 Hartrees\n",
      "Energia de Correlação:      -0.24617629 Hartrees\n"
     ]
    }
   ],
   "source": [
    "# 2. Calcular a energia Full CI\n",
    "# Inicializamos o resolvedor FCI com o objeto 'myhf' (que contém os orbitais)\n",
    "myfci = fci.FCI(myhf)\n",
    "\n",
    "# myfci.kernel() diagonaliza a matriz Hamiltoniana FCI\n",
    "# Retorna: (energia_fci, vetor_de_onda_fci)\n",
    "e_fci_pyscf, fcivec = myfci.kernel()\n",
    "\n",
    "print(f\"Energia Full CI (PySCF):    {e_fci_pyscf:.8f} Hartrees\")\n",
    "\n",
    "# A diferença entre FCI e HF é a energia de correlação\n",
    "e_corr = e_fci_pyscf - myhf.e_tot\n",
    "print(f\"Energia de Correlação:      {e_corr:.8f} Hartrees\")"
   ]
  },
  {
   "cell_type": "markdown",
   "id": "88ce8b05",
   "metadata": {},
   "source": [
    "Valor experimental: \n",
    "\n",
    "Óxido Nitroso,N₂O,-184.975"
   ]
  },
  {
   "cell_type": "code",
   "execution_count": null,
   "id": "f0ffef79",
   "metadata": {},
   "outputs": [],
   "source": []
  }
 ],
 "metadata": {
  "kernelspec": {
   "display_name": ".venv",
   "language": "python",
   "name": "python3"
  },
  "language_info": {
   "codemirror_mode": {
    "name": "ipython",
    "version": 3
   },
   "file_extension": ".py",
   "mimetype": "text/x-python",
   "name": "python",
   "nbconvert_exporter": "python",
   "pygments_lexer": "ipython3",
   "version": "3.14.0"
  }
 },
 "nbformat": 4,
 "nbformat_minor": 5
}
