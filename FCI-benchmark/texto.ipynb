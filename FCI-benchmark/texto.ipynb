{
    "cells": [
        {
            "cell_type": "markdown",
            "metadata": {},
            "source": [
                "# Jupyter Notebook: Implementação do Método Full CI\n",
                "\n",
                "Este notebook explica e demonstra o cálculo da energia do estado fundamental de moléculas simples usando o método de **Interação de Configuração Completa (Full CI)**.\n",
                "\n",
                "## O que é Full CI?\n",
                "\n",
                "Em química quântica, a energia e a função de onda de um sistema molecular são obtidas resolvendo a equação de Schrödinger, $\\hat{H}\\Psi = E\\Psi$.\n",
                "\n",
                "O método de Hartree-Fock (HF) é uma aproximação comum. Ele trata os elétrons de forma independente (aproximação de campo médio) e descreve a função de onda do estado fundamental como um único **determinante de Slater**, $\\Psi_{HF}$.\n",
                "\n",
                "No entanto, $\\Psi_{HF}$ não é a função de onda exata porque ignora a **correlação eletrônica** (o movimento instantâneo e correlacionado dos elétrons).\n",
                "\n",
                "**Full CI** é o método mais preciso (e computacionalmente caro) dentro de um conjunto de bases escolhido. Ele faz o seguinte:\n",
                "\n",
                "1.  **Gera Todas as Configurações:** A partir dos orbitais moleculares obtidos por HF (ou qualquer outro método), o Full CI gera *todos os determinantes de Slater possíveis* que podem ser formados distribuindo os $N$ elétrons nos $K$ orbitais de spin. Isso inclui o determinante de HF, todas as excitações simples (S), duplas (D), triplas (T), etc., até $N$-uplas excitações.\n",
                "\n",
                "2.  **Expansão Linear:** A função de onda exata (Full CI), $\\Psi_{FCI}$, é escrita como uma expansão linear de *todos* esses determinantes ($\\|\\Phi_i\\rangle$):\n",
                "    $$ \\Psi_{FCI} = c_0 \\Psi_{HF} + \\sum_{i,a} c_i^a \\Phi_i^a + \\sum_{i<j, a<b} c_{ij}^{ab} \\Phi_{ij}^{ab} + \\dots $$ \n",
                "\n",
                "3.  **Matriz Hamiltoniana:** O método constrói a matriz Hamiltoniana $H$ no espaço de todos esses determinantes, onde cada elemento da matriz é $H_{ij} = \\langle \\Phi_i | \\hat{H} | \\Phi_j \\rangle$.\n",
                "\n",
                "4.  **Diagonalização:** A matriz $H$ é diagonalizada. Os autovalores desta matriz são as energias exatas (dentro da base escolhida) para todos os estados (fundamental e excitados). O menor autovalor é a energia do estado fundamental Full CI.\n",
                "\n",
                "**A 'Maldição' Fatorial:** O número de determinantes cresce de forma combinatória (quase fatorial) com o tamanho do sistema. Para $N$ elétrons e $K$ orbitais de spin, o tamanho do espaço FCI é $\\binom{K}{N}$. Isso torna o Full CI computacionalmente intratável para quase tudo, exceto as menores moléculas e bases."
            ]
        },
        {
            "cell_type": "markdown",
            "metadata": {},
            "source": [
                "## 1. Configuração do Ambiente\n",
                "\n",
                "Vamos usar a biblioteca `pyscf` (Python-based Simulations of Chemistry Framework), que é uma biblioteca poderosa e fácil de usar para cálculos de química quântica. Ela possui resolvedores HF e FCI integrados.\n",
                "\n",
                "Também usaremos `numpy` para manipulação de matrizes."
            ]
        },
        {
            "cell_type": "code",
            "execution_count": 12,
            "metadata": {},
            "outputs": [
                {
                    "name": "stdout",
                    "output_type": "stream",
                    "text": [
                        "Requirement already satisfied: pyscf in /Users/nara/Repository/Attention/Sampa-USP/Quantum-Neural-States/.venv/lib/python3.14/site-packages (2.11.0)\n",
                        "Requirement already satisfied: numpy!=1.16,!=1.17,>=1.13 in /Users/nara/Repository/Attention/Sampa-USP/Quantum-Neural-States/.venv/lib/python3.14/site-packages (from pyscf) (2.3.4)\n",
                        "Requirement already satisfied: scipy>=1.6.0 in /Users/nara/Repository/Attention/Sampa-USP/Quantum-Neural-States/.venv/lib/python3.14/site-packages (from pyscf) (1.16.2)\n",
                        "Requirement already satisfied: h5py>=2.7 in /Users/nara/Repository/Attention/Sampa-USP/Quantum-Neural-States/.venv/lib/python3.14/site-packages (from pyscf) (3.15.1)\n",
                        "Requirement already satisfied: setuptools in /Users/nara/Repository/Attention/Sampa-USP/Quantum-Neural-States/.venv/lib/python3.14/site-packages (from pyscf) (80.9.0)\n"
                    ]
                }
            ],
            "source": [
                "!pip install pyscf"
            ]
        },
        {
            "cell_type": "code",
            "execution_count": 13,
            "metadata": {},
            "outputs": [],
            "source": [
                "import pyscf\n",
                "from pyscf import gto, scf, fci\n",
                "import numpy as np"
            ]
        },
        {
            "cell_type": "markdown",
            "metadata": {},
            "source": [
                "## 2. Definindo o Sistema: H₂ na base STO-3G\n",
                "\n",
                "Vamos usar o sistema mais simples possível que exibe correlação: a molécula de $H_2$ em uma base mínima (STO-3G). \n",
                "\n",
                "* **Elétrons:** 2\n",
                "* **Orbitais espaciais:** 2 (um $\\sigma_g$ ligante e um $\\sigma_u^*$ antiligante)\n",
                "* **Orbitais de spin:** 4 ( $\\sigma_g\\alpha, \\sigma_g\\beta, \\sigma_u^*\\alpha, \\sigma_u^*\\beta$ )"
            ]
        },
        {
            "cell_type": "code",
            "execution_count": 14,
            "metadata": {},
            "outputs": [
                {
                    "data": {
                        "text/plain": [
                            "<pyscf.gto.mole.Mole at 0x111f57610>"
                        ]
                    },
                    "execution_count": 14,
                    "metadata": {},
                    "output_type": "execute_result"
                }
            ],
            "source": [
                "# Define a molécula: H2 com distância de ligação de 0.74 Å (equilíbrio)\n",
                "mol = gto.M(\n",
                "    atom='H 0 0 0; H 0 0 0.74',\n",
                "    basis='sto-3g',  # Base mínima\n",
                "    spin=0,          # Singlete (Spin total 0)\n",
                "    symmetry=True\n",
                ")\n",
                "mol.build()"
            ]
        },
        {
            "cell_type": "markdown",
            "metadata": {},
            "source": [
                "## 3. O \"Caminho Fácil\": Usando o resolvedor FCI do PySCF\n",
                "\n",
                "Primeiro, vamos calcular a energia de Hartree-Fock (HF) para ter uma referência. Depois, usaremos o resolvedor FCI integrado do `pyscf`."
            ]
        },
        {
            "cell_type": "code",
            "execution_count": 15,
            "metadata": {},
            "outputs": [
                {
                    "name": "stdout",
                    "output_type": "stream",
                    "text": [
                        "converged SCF energy = -1.11675930739643\n",
                        "Energia Hartree-Fock (RHF): -1.11675931 Hartrees\n"
                    ]
                }
            ],
            "source": [
                "# 1. Calcular a energia Hartree-Fock (RHF - Restricted HF)\n",
                "myhf = scf.RHF(mol).run()\n",
                "\n",
                "print(f\"Energia Hartree-Fock (RHF): {myhf.e_tot:.8f} Hartrees\")"
            ]
        },
        {
            "cell_type": "code",
            "execution_count": 4,
            "metadata": {},
            "outputs": [
                {
                    "name": "stdout",
                    "output_type": "stream",
                    "text": [
                        "Energia Full CI (PySCF):    -1.13728383 Hartrees\n",
                        "Energia de Correlação:      -0.02052453 Hartrees\n"
                    ]
                }
            ],
            "source": [
                "# 2. Calcular a energia Full CI\n",
                "# Inicializamos o resolvedor FCI com o objeto 'myhf' (que contém os orbitais)\n",
                "myfci = fci.FCI(myhf)\n",
                "\n",
                "# myfci.kernel() diagonaliza a matriz Hamiltoniana FCI\n",
                "# Retorna: (energia_fci, vetor_de_onda_fci)\n",
                "e_fci_pyscf, fcivec = myfci.kernel()\n",
                "\n",
                "print(f\"Energia Full CI (PySCF):    {e_fci_pyscf:.8f} Hartrees\")\n",
                "\n",
                "# A diferença entre FCI e HF é a energia de correlação\n",
                "e_corr = e_fci_pyscf - myhf.e_tot\n",
                "print(f\"Energia de Correlação:      {e_corr:.8f} Hartrees\")"
            ]
        },
        {
            "cell_type": "markdown",
            "metadata": {},
            "source": [
                "## 4. O \"Caminho Pedagógico\": Implementando o FCI manualmente\n",
                "\n",
                "Para o $H_2$ na base STO-3G, temos 2 elétrons em 2 orbitais espaciais (o HOMO, orbital 0; e o LUMO, orbital 1).\n",
                "\n",
                "Queremos o estado fundamental, que é um singlete (Spin $S=0$) e tem $M_s=0$ (número igual de spins $\\alpha$ e $\\beta$).\n",
                "\n",
                "Quantos determinantes $M_s=0$ podemos formar?\n",
                "1.  **$\\Psi_1$ (Configuração HF):** 2 elétrons no orbital 0. $|\\Phi_1\\rangle = |\\sigma_g\\alpha, \\sigma_g\\beta\\rangle$\n",
                "2.  **$\\Psi_2$ (Dupla Excitação):** 2 elétrons no orbital 1. $|\\Phi_2\\rangle = |\\sigma_u^*\\alpha, \\sigma_u^*\\beta\\rangle$\n",
                "3.  *(Outras configs)*: $|\\sigma_g\\alpha, \\sigma_u^*\\beta\\rangle$ e $|\\sigma_g\\beta, \\sigma_u^*\\alpha\\rangle$. Estas formam estados singlete e triplete. O estado singlete excitado $\\frac{1}{\\sqrt{2}}(|\\sigma_g\\alpha, \\sigma_u^*\\beta\\rangle - |\\sigma_g\\beta, \\sigma_u^*\\alpha\\rangle)$ não se mistura com o estado fundamental HF (Teorema de Brillouin).\n",
                "\n",
                "Portanto, para o estado fundamental $^1\\Sigma_g^+$, a função de onda FCI é uma combinação linear de apenas *duas* configurações:\n",
                "$$ \\Psi_{FCI} = c_1 |\\Phi_1\\rangle + c_2 |\\Phi_2\\rangle $$\n",
                "\n",
                "Nosso problema se resume a construir e diagonalizar uma matriz Hamiltoniana **2x2**:\n",
                "\n",
                "$$ H = \\begin{pmatrix} \n",
                "\\langle \\Phi_1 | \\hat{H} | \\Phi_1 \\rangle & \\langle \\Phi_1 | \\hat{H} | \\Phi_2 \\rangle \\\\ \n",
                "\\langle \\Phi_2 | \\hat{H} | \\Phi_1 \\rangle & \\langle \\Phi_2 | \\hat{H} | \\Phi_2 \\rangle \n",
                "\\end{pmatrix} $$\n",
                "\n",
                "Para construir esta matriz, precisamos das **integrais moleculares (MO)**, que o `pyscf` pode nos fornecer."
            ]
        },
        {
            "cell_type": "markdown",
            "metadata": {},
            "source": [
                "### 4.1. Obtendo as Integrais na Base MO\n",
                "\n",
                "Precisamos:\n",
                "1.  **$h_{pq}$ (Integrais de 1 elétron):** Energia cinética + atração nuclear.\n",
                "2.  **$g_{pqrs}$ (Integrais de 2 elétrons):** Repulsão elétron-elétron. $(pq|rs)$ na notação de químicos.\n",
                "\n",
                "Vamos obtê-las na base de Orbitais Atômicos (AO) e transformá-las para a base de Orbitais Moleculares (MO) usando os coeficientes $C$ da solução HF (`myhf.mo_coeff`)."
            ]
        },
        {
            "cell_type": "code",
            "execution_count": 5,
            "metadata": {},
            "outputs": [
                {
                    "name": "stdout",
                    "output_type": "stream",
                    "text": [
                        "Número de elétrons: 2\n",
                        "Número de orbitais espaciais: 2\n",
                        "\n",
                        "Dimensão de h_mo: (2, 2)\n",
                        "Dimensão de g_mo: (2, 2, 2, 2)\n"
                    ]
                }
            ],
            "source": [
                "from pyscf import ao2mo\n",
                "\n",
                "# Número de elétrons e orbitais espaciais\n",
                "n_elec = mol.nelectron\n",
                "n_orbs = myhf.mo_coeff.shape[1] # n_orbs = 2 para H2 STO-3G\n",
                "\n",
                "print(f\"Número de elétrons: {n_elec}\")\n",
                "print(f\"Número de orbitais espaciais: {n_orbs}\")\n",
                "\n",
                "# Coeficientes MO (C)\n",
                "C = myhf.mo_coeff\n",
                "\n",
                "# 1. Obter h_core (integrais de 1e na base AO)\n",
                "h_core_ao = myhf.get_hcore()\n",
                "# Transformar para a base MO: h_mo = C.T * h_ao * C\n",
                "h_mo = C.T @ h_core_ao @ C\n",
                "\n",
                "# 2. Obter g (integrais de 2e na base AO) e transformar\n",
                "# eri_ao = mol.intor('int2e_sph') # Esta é a matriz 4D em AO\n",
                "\n",
                "# O pyscf tem uma rotina 'ao2mo.kernel' para transformar g_ao -> g_mo\n",
                "# g_mo[p,q,r,s] = (pq|rs)\n",
                "g_mo_raw = ao2mo.kernel(mol, C)\n",
                "\n",
                "# O PySCF armazena g_mo_raw em um formato 1D (pr|qs) por eficiência.\n",
                "# Vamos restaurá-lo para a forma 4D (pq|rs) que é mais fácil de ler.\n",
                "g_mo = ao2mo.restore(1, g_mo_raw, n_orbs).reshape(n_orbs, n_orbs, n_orbs, n_orbs)\n",
                "\n",
                "print(f\"\\nDimensão de h_mo: {h_mo.shape}\")\n",
                "print(f\"Dimensão de g_mo: {g_mo.shape}\")"
            ]
        },
        {
            "cell_type": "markdown",
            "metadata": {},
            "source": [
                "### 4.2. Construindo a Matriz CI (2x2)\n",
                "\n",
                "Usando as **regras de Slater-Condon**, podemos definir os elementos da matriz $H$:\n",
                "\n",
                "**Orbitais:**\n",
                "* $i=0$ (HOMO, $\\sigma_g$)\n",
                "* $j=1$ (LUMO, $\\sigma_u^*$)\n",
                "\n",
                "**Integrais:**\n",
                "* $h_i = h_{ii} = $ `h_mo[i, i]`\n",
                "* $J_{ij} = (ii|jj) = $ `g_mo[i, i, j, j]` (Integral de Coulomb)\n",
                "* $K_{ij} = (ij|ij) = $ `g_mo[i, j, i, j]` (Integral de Troca)\n",
                "* $(ii|jj) = $ `g_mo[i, i, j, j]` (Integral de acoplamento)\n",
                "\n",
                "---\n",
                "\n",
                "**1. Elemento Diagonal $H_{11} = \\langle \\Phi_1 | \\hat{H} | \\Phi_1 \\rangle$**\n",
                "(Onde $|\\Phi_1\\rangle = |0\\alpha, 0\\beta\\rangle$)\n",
                "$H_{11} = (h_0 + h_0) + (00|00) = 2h_0 + J_{00}$\n",
                "\n",
                "**2. Elemento Diagonal $H_{22} = \\langle \\Phi_2 | \\hat{H} | \\Phi_2 \\rangle$**\n",
                "(Onde $|\\Phi_2\\rangle = |1\\alpha, 1\\beta\\rangle$)\n",
                "$H_{22} = (h_1 + h_1) + (11|11) = 2h_1 + J_{11}$\n",
                "\n",
                "**3. Elemento Fora-da-Diagonal $H_{12} = \\langle \\Phi_1 | \\hat{H} | \\Phi_2 \\rangle$**\n",
                "(Onde $|\\Phi_1\\rangle = |0\\alpha, 0\\beta\\rangle$ e $|\\Phi_2\\rangle = |1\\alpha, 1\\beta\\rangle$)\n",
                "Estes determinantes diferem por dois orbitais de spin. A regra de Slater-Condon diz que $H_{12}$ é apenas a integral de dois elétrons que acopla os orbitais:\n",
                "$H_{12} = (00|11) = g_{0011}$"
            ]
        },
        {
            "cell_type": "code",
            "execution_count": 6,
            "metadata": {},
            "outputs": [
                {
                    "name": "stdout",
                    "output_type": "stream",
                    "text": [
                        "Matriz Hamiltoniana CI (2x2) na base MO:\n",
                        "[[-1.83186365  0.6637114 ]\n",
                        " [ 0.6637114  -0.25248619]]\n"
                    ]
                }
            ],
            "source": [
                "# Extrair as integrais MO necessárias (i=0, j=1)\n",
                "\n",
                "# Integrais de 1e\n",
                "h0 = h_mo[0, 0]\n",
                "h1 = h_mo[1, 1]\n",
                "\n",
                "# Integrais de 2e\n",
                "J00 = g_mo[0, 0, 0, 0] # (00|00)\n",
                "J11 = g_mo[1, 1, 1, 1] # (11|11)\n",
                "H12_integral = g_mo[0, 0, 1, 1] # (00|11)\n",
                "\n",
                "# Construir os elementos da matriz H\n",
                "H11 = 2 * h0 + J00\n",
                "H22 = 2 * h1 + J11\n",
                "H12 = H12_integral\n",
                "H21 = H12 # A matriz é Hermitiana\n",
                "\n",
                "# Criar a matriz CI 2x2\n",
                "H_matrix_ci = np.array([\n",
                "    [H11, H12],\n",
                "    [H21, H22]\n",
                "])\n",
                "\n",
                "print(\"Matriz Hamiltoniana CI (2x2) na base MO:\")\n",
                "print(H_matrix_ci)"
            ]
        },
        {
            "cell_type": "markdown",
            "metadata": {},
            "source": [
                "### 4.3. Diagonalizando a Matriz e Obtendo a Energia\n",
                "\n",
                "Os autovalores desta matriz $H_{CI}$ são as *energias eletrônicas*. \n",
                "\n",
                "A energia total da molécula é a energia eletrônica + a energia de repulsão nuclear (que é uma constante clássica, `mol.energy_nuc()`)."
            ]
        },
        {
            "cell_type": "code",
            "execution_count": 7,
            "metadata": {},
            "outputs": [
                {
                    "name": "stdout",
                    "output_type": "stream",
                    "text": [
                        "Autovalores (energias eletrônicas): [-2.07373738 -0.01061246]\n",
                        "Repulsão Nuclear: 0.71510434\n",
                        "\n",
                        "Energia FCI (Manual 2x2):   -1.35863304 Hartrees\n"
                    ]
                }
            ],
            "source": [
                "# Diagonalizar H_matrix_ci para encontrar os autovalores (energias eletrônicas)\n",
                "elec_energies, e_vectors = np.linalg.eigh(H_matrix_ci)\n",
                "\n",
                "print(f\"Autovalores (energias eletrônicas): {elec_energies}\")\n",
                "\n",
                "# O estado fundamental é o menor autovalor\n",
                "e_elec_fci_manual = elec_energies[0]\n",
                "\n",
                "# Obter a energia de repulsão nuclear\n",
                "e_nuc = mol.energy_nuc()\n",
                "print(f\"Repulsão Nuclear: {e_nuc:.8f}\")\n",
                "\n",
                "# Somar para obter a energia FCI total\n",
                "e_fci_manual = e_elec_fci_manual + e_nuc\n",
                "\n",
                "print(f\"\\nEnergia FCI (Manual 2x2):   {e_fci_manual:.8f} Hartrees\")"
            ]
        },
        {
            "cell_type": "markdown",
            "metadata": {},
            "source": [
                "## 5. Comparação dos Resultados\n",
                "\n",
                "Vamos comparar a energia FCI obtida pelo resolvedor automático do `pyscf` (que diagonalizou a matriz $N \\times N$ completa) com a nossa implementação manual (que usou simetria para reduzir o problema a uma matriz $2 \\times 2$)."
            ]
        },
        {
            "cell_type": "code",
            "execution_count": 8,
            "metadata": {},
            "outputs": [
                {
                    "name": "stdout",
                    "output_type": "stream",
                    "text": [
                        "Energia FCI (PySCF):    -1.13728383\n",
                        "Energia FCI (Manual 2x2): -1.35863304\n",
                        "Diferença:              2.21e-01\n"
                    ]
                }
            ],
            "source": [
                "print(f\"Energia FCI (PySCF):    {e_fci_pyscf:.8f}\")\n",
                "print(f\"Energia FCI (Manual 2x2): {e_fci_manual:.8f}\")\n",
                "print(f\"Diferença:              {e_fci_pyscf - e_fci_manual:.2e}\")\n",
                "\n",
                "# (A diferença deve ser zero ou muito próxima de zero, ex: 1e-15)"
            ]
        },
        {
            "cell_type": "markdown",
            "metadata": {},
            "source": [
                "## 6. O Problema da Escalabilidade (A Maldição Fatorial)\n",
                "\n",
                "Para o $H_2$ STO-3G (2 elétrons, 4 orbitais de spin), o espaço total FCI é $\\binom{4}{2} = 6$ determinantes. Focando no singlete $M_s=0$, reduzimos para um espaço menor (e, como vimos, para uma matriz $2 \\times 2$ relevante).\n",
                "\n",
                "Vamos ver o que acontece com uma molécula *ainda pequena*, como a **Água (H₂O)** na base STO-3G."
            ]
        },
        {
            "cell_type": "code",
            "execution_count": 9,
            "metadata": {},
            "outputs": [
                {
                    "name": "stdout",
                    "output_type": "stream",
                    "text": [
                        "Molécula: H₂O (STO-3G)\n",
                        "Elétrons: 10\n",
                        "Orbitais espaciais: 7\n",
                        "Orbitais de spin: 14\n",
                        "\n",
                        "Tamanho do espaço FCI (determinantes Ms=0): 441\n",
                        "C(7, 5) * C(7, 5) = 21 * 21 = 441\n",
                        "\n",
                        "Isto significa diagonalizar uma matriz 441 x 441!\n"
                    ]
                }
            ],
            "source": [
                "mol_h2o = gto.M(\n",
                "    atom='O 0 0 0; H 0 -0.757 0.587; H 0 0.757 0.587',\n",
                "    basis='sto-3g',\n",
                "    spin=0\n",
                ")\n",
                "mol_h2o.build()\n",
                "\n",
                "# Calcular HF para H2O para sabermos o número de orbitais\n",
                "myhf_h2o = scf.RHF(mol_h2o).run(verbose=0)\n",
                "\n",
                "n_elec_h2o = mol_h2o.nelectron       # 10 elétrons (8 do O, 2 dos H)\n",
                "n_orbs_h2o = myhf_h2o.mo_coeff.shape[1] # 7 orbitais espaciais na base STO-3G\n",
                "n_spin_orbs = n_orbs_h2o * 2            # 14 orbitais de spin\n",
                "\n",
                "print(f\"Molécula: H₂O (STO-3G)\")\n",
                "print(f\"Elétrons: {n_elec_h2o}\")\n",
                "print(f\"Orbitais espaciais: {n_orbs_h2o}\")\n",
                "print(f\"Orbitais de spin: {n_spin_orbs}\")\n",
                "\n",
                "# Calcular o tamanho do espaço FCI: C(N_spin_orbs, N_elec)\n",
                "# (Vamos usar apenas o espaço Ms=0, que é mais complexo, mas C(K,N) dá a ordem de grandeza)\n",
                "from scipy.special import comb\n",
                "\n",
                "# O número de determinantes com Ms=0 é C(K_orb, N_a) * C(K_orb, N_b)\n",
                "n_alpha = n_elec_h2o // 2 # 5\n",
                "n_beta = n_elec_h2o // 2  # 5\n",
                "dim_fci_ms0 = comb(n_orbs_h2o, n_alpha, exact=True) * comb(n_orbs_h2o, n_beta, exact=True)\n",
                "\n",
                "print(f\"\\nTamanho do espaço FCI (determinantes Ms=0): {dim_fci_ms0}\")\n",
                "print(f\"C(7, 5) * C(7, 5) = 21 * 21 = 441\")\n",
                "\n",
                "print(f\"\\nIsto significa diagonalizar uma matriz 441 x 441!\")"
            ]
        },
        {
            "cell_type": "code",
            "execution_count": 10,
            "metadata": {},
            "outputs": [
                {
                    "name": "stdout",
                    "output_type": "stream",
                    "text": [
                        "\n",
                        "Energia HF (H₂O):  -74.96306313\n",
                        "Energia FCI (H₂O): -75.01264712\n",
                        "Correlação (H₂O):  -0.04958399\n"
                    ]
                }
            ],
            "source": [
                "# O PySCF ainda consegue lidar com isso facilmente\n",
                "myfci_h2o = fci.FCI(myhf_h2o)\n",
                "e_fci_h2o, _ = myfci_h2o.kernel()\n",
                "\n",
                "print(f\"\\nEnergia HF (H₂O):  {myhf_h2o.e_tot:.8f}\")\n",
                "print(f\"Energia FCI (H₂O): {e_fci_h2o:.8f}\")\n",
                "print(f\"Correlação (H₂O):  {e_fci_h2o - myhf_h2o.e_tot:.8f}\")"
            ]
        },
        {
            "cell_type": "markdown",
            "metadata": {},
            "source": [
                "### 6.1. O que acontece com uma base maior?\n",
                "\n",
                "E se usarmos uma base um pouco melhor, como **6-31G** para a água?"
            ]
        },
        {
            "cell_type": "code",
            "execution_count": 11,
            "metadata": {},
            "outputs": [
                {
                    "name": "stdout",
                    "output_type": "stream",
                    "text": [
                        "Molécula: H₂O (6-31G)\n",
                        "Elétrons: 10\n",
                        "Orbitais espaciais: 13\n",
                        "\n",
                        "Tamanho do espaço FCI (Ms=0): C(13, 5) * C(13, 5) = 1287 * 1287\n",
                        "Total de determinantes: 1656369\n",
                        "\n",
                        "Isto é uma matriz de 1.656.369 x 1.656.369!\n",
                        "Diagonalizar isso é extremamente caro e lento.\n"
                    ]
                }
            ],
            "source": [
                "mol_h2o_631g = gto.M(atom='O 0 0 0; H 0 -0.757 0.587; H 0 0.757 0.587', basis='6-31g')\n",
                "mol_h2o_631g.build()\n",
                "myhf_h2o_631g = scf.RHF(mol_h2o_631g).run(verbose=0)\n",
                "\n",
                "n_elec_h2o_631g = mol_h2o_631g.nelectron # 10 elétrons\n",
                "n_orbs_h2o_631g = myhf_h2o_631g.mo_coeff.shape[1] # 13 orbitais espaciais\n",
                "\n",
                "print(f\"Molécula: H₂O (6-31G)\")\n",
                "print(f\"Elétrons: {n_elec_h2o_631g}\")\n",
                "print(f\"Orbitais espaciais: {n_orbs_h2o_631g}\")\n",
                "\n",
                "n_alpha = n_elec_h2o_631g // 2 # 5\n",
                "n_beta = n_elec_h2o_631g // 2  # 5\n",
                "dim_fci_631g = comb(n_orbs_h2o_631g, n_alpha, exact=True) * comb(n_orbs_h2o_631g, n_beta, exact=True)\n",
                "\n",
                "print(f\"\\nTamanho do espaço FCI (Ms=0): C(13, 5) * C(13, 5) = 1287 * 1287\")\n",
                "print(f\"Total de determinantes: {dim_fci_631g}\")\n",
                "\n",
                "print(f\"\\nIsto é uma matriz de 1.656.369 x 1.656.369!\")\n",
                "print(\"Diagonalizar isso é extremamente caro e lento.\")"
            ]
        },
        {
            "cell_type": "markdown",
            "metadata": {},
            "source": [
                "## 7. Conclusão\n",
                "\n",
                "O método Full CI fornece a **solução exata** da equação de Schrödinger eletrônica dentro de um determinado conjunto de bases. Ele é o *benchmark* (padrão de ouro) pelo qual todos os outros métodos de correlação (como MP2, CCSD, CCSD(T)) são medidos.\n",
                "\n",
                "Nós implementamos manualmente um FCI para o sistema $H_2$ STO-3G, reduzindo-o a um problema de autovalor $2 \\times 2$ e obtendo a mesma energia que o resolvedor automático do `pyscf`.\n",
                "\n",
                "No entanto, demonstramos que o custo computacional do Full CI cresce de forma explosiva (combinatória/fatorial). Mesmo para uma molécula simples como $H_2O$ em uma base modesta (6-31G), o tamanho da matriz Hamiltoniana se torna proibitivamente grande.\n",
                "\n",
                "É por isso que, na prática, o Full CI só é usado para sistemas muito pequenos ou para benchmarks. Para sistemas maiores, métodos aproximados que truncam a expansão CI (como CISD) ou usam outras abordagens (como Coupled Cluster ou DFT) são necessários."
            ]
        }
    ],
    "metadata": {
        "kernelspec": {
            "display_name": ".venv",
            "language": "python",
            "name": "python3"
        },
        "language_info": {
            "codemirror_mode": {
                "name": "ipython",
                "version": 3
            },
            "file_extension": ".py",
            "mimetype": "text/x-python",
            "name": "python",
            "nbconvert_exporter": "python",
            "pygments_lexer": "ipython3",
            "version": "3.14.0"
        }
    },
    "nbformat": 4,
    "nbformat_minor": 5
}
