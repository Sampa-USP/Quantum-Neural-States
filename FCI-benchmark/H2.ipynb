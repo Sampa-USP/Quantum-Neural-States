{
 "cells": [
  {
   "cell_type": "code",
   "execution_count": null,
   "id": "18304402",
   "metadata": {},
   "outputs": [
    {
     "ename": "",
     "evalue": "",
     "output_type": "error",
     "traceback": [
      "\u001b[1;31mFailed to start the Kernel. \n",
      "\u001b[1;31m[I 20:54:34.026 remote_ikernel] Remote kernel version: 0.4.6.\n",
      "\u001b[1;31m[I 20:54:34.026 remote_ikernel] File location: /opt/homebrew/lib/python3.14/site-packages/remote_ikernel/kernel.py.\n",
      "\u001b[1;31m[I 20:54:34.026 remote_ikernel] Launching kernel over SSH.\n",
      "\u001b[1;31m[I 20:54:34.027 remote_ikernel] Login command: 'ssh -o StrictHostKeyChecking=no  quark'.\n",
      "\u001b[1;31m[I 20:54:34.337 remote_ikernel] Established connection; starting kernel.\n",
      "\u001b[1;31m[I 20:54:34.337 remote_ikernel] Remote working directory /home/nara.\n",
      "\u001b[1;31m[I 20:54:34.502 remote_ikernel] Running kernel command: 'srun bash -lc 'source ~/.venv/bin/activate && python -m ipykernel -f ./rik_kernel-7c301dbb-d494-43d3-ac33-e6fe4ed975b3.json''.\n",
      "\u001b[1;31m[I 20:54:35.389 remote_ikernel] Setting up tunnels on ports: 9000, 9002, 9004, 9003, 9001. \n",
      "\u001b[1;31mView Jupyter <a href='command:jupyter.viewOutput'>log</a> for further details."
     ]
    }
   ],
   "source": [
    "import pyscf\n",
    "from pyscf import gto, scf, fci\n",
    "import numpy as np"
   ]
  },
  {
   "cell_type": "code",
   "execution_count": null,
   "id": "518f5ef6",
   "metadata": {},
   "outputs": [
    {
     "ename": "",
     "evalue": "",
     "output_type": "error",
     "traceback": [
      "\u001b[1;31mFailed to start the Kernel. \n",
      "\u001b[1;31m[I 20:45:45.741 remote_ikernel] Remote kernel version: 0.4.6.\n",
      "\u001b[1;31m[I 20:45:45.741 remote_ikernel] File location: /opt/homebrew/lib/python3.14/site-packages/remote_ikernel/kernel.py.\n",
      "\u001b[1;31m[I 20:45:45.742 remote_ikernel] Launching kernel over SSH.\n",
      "\u001b[1;31m[I 20:45:45.742 remote_ikernel] Login command: 'ssh -o StrictHostKeyChecking=no  quark'.\n",
      "\u001b[1;31m[I 20:45:46.013 remote_ikernel] Established connection; starting kernel.\n",
      "\u001b[1;31m[I 20:45:46.013 remote_ikernel] Remote working directory /Users/nara.\n",
      "\u001b[1;31m[I 20:45:46.173 remote_ikernel] Running kernel command: 'srun bash -lc 'source ~/.venv/bin/activate && python -m ipykernel -f ./rik_kernel-f5fb0a12-3161-473c-9fee-24d01d821f83.json''.\n",
      "\u001b[1;31m[I 20:45:46.912 remote_ikernel] Setting up tunnels on ports: 9005, 9007, 9009, 9008, 9006. \n",
      "\u001b[1;31mView Jupyter <a href='command:jupyter.viewOutput'>log</a> for further details."
     ]
    }
   ],
   "source": [
    "# Define a molécula: H2 com distância de ligação de 0.74 Å (equilíbrio)\n",
    "mol = gto.M(\n",
    "    atom='H 0 0 0; H 0 0 0.74144',\n",
    "    basis='sto-3g',  # Base mínima\n",
    "    spin=0,          # Singlete (Spin total 0)\n",
    "    symmetry=True\n",
    ")\n",
    "mol.build()"
   ]
  },
  {
   "cell_type": "code",
   "execution_count": 12,
   "id": "888e5a8a",
   "metadata": {},
   "outputs": [
    {
     "name": "stdout",
     "output_type": "stream",
     "text": [
      "converged SCF energy = -1.11668219696281\n",
      "Energia Hartree-Fock (RHF): -1.11668220 Hartrees\n"
     ]
    }
   ],
   "source": [
    "# 1. Calcular a energia Hartree-Fock (RHF - Restricted HF)\n",
    "myhf = scf.RHF(mol).run()\n",
    "\n",
    "print(f\"Energia Hartree-Fock (RHF): {myhf.e_tot:.8f} Hartrees\")"
   ]
  },
  {
   "cell_type": "code",
   "execution_count": 13,
   "id": "f0c1c67c",
   "metadata": {},
   "outputs": [
    {
     "name": "stdout",
     "output_type": "stream",
     "text": [
      "Energia Full CI (PySCF):    -1.13726974 Hartrees\n",
      "Energia de Correlação:      -0.02058754 Hartrees\n"
     ]
    }
   ],
   "source": [
    "# 2. Calcular a energia Full CI\n",
    "# Inicializamos o resolvedor FCI com o objeto 'myhf' (que contém os orbitais)\n",
    "myfci = fci.FCI(myhf)\n",
    "\n",
    "# myfci.kernel() diagonaliza a matriz Hamiltoniana FCI\n",
    "# Retorna: (energia_fci, vetor_de_onda_fci)\n",
    "e_fci_pyscf, fcivec = myfci.kernel()\n",
    "\n",
    "print(f\"Energia Full CI (PySCF):    {e_fci_pyscf:.8f} Hartrees\")\n",
    "\n",
    "# A diferença entre FCI e HF é a energia de correlação\n",
    "e_corr = e_fci_pyscf - myhf.e_tot\n",
    "print(f\"Energia de Correlação:      {e_corr:.8f} Hartrees\")"
   ]
  },
  {
   "cell_type": "markdown",
   "id": "c11f178c",
   "metadata": {},
   "source": [
    "Valor experimental: \n",
    "\n",
    "Hidrogênio (molécula),H₂,-1.1744"
   ]
  },
  {
   "cell_type": "markdown",
   "id": "57929e8f",
   "metadata": {},
   "source": []
  }
 ],
 "metadata": {
  "kernelspec": {
   "display_name": "SSH quark Python3.11 (HPC)",
   "language": "",
   "name": "rik_ssh_quark_python311hpc"
  },
  "language_info": {
   "codemirror_mode": {
    "name": "ipython",
    "version": 3
   },
   "file_extension": ".py",
   "mimetype": "text/x-python",
   "name": "python",
   "nbconvert_exporter": "python",
   "pygments_lexer": "ipython3",
   "version": "3.14.0"
  }
 },
 "nbformat": 4,
 "nbformat_minor": 5
}
